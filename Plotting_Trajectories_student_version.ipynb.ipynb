{
  "cells": [
    {
      "cell_type": "markdown",
      "metadata": {
        "id": "_xCjVorZtHiT"
      },
      "source": [
        "\n",
        "Python course for UIUC Physics REU 2025\n",
        "\n",
        "Instructor: Yueying Wu\n",
        "\n",
        "The following Python code plots the possible trajectories for an object subject to gravity*\n",
        "\n",
        "First, please make sure the code is a copy of the original.\n",
        "Run all the blocks of the code once as-is.\n",
        "Then follow the prompts at the bottom of the page.\n",
        "\n",
        "* Code originally developed by Prof. Alex Sushkov for Boston University Physics 251 in 2018, modified by Kevin Kleiner and Preethi Basani\n",
        "\n",
        "* Play with the code, change it by yourself"
      ]
    },
    {
      "cell_type": "markdown",
      "metadata": {},
      "source": [
        "🛑 This notebook is for practice. Do **not** refer to the solution notebook before attempting the exercises yourself.\n"
      ]
    },
    {
      "cell_type": "code",
      "execution_count": null,
      "metadata": {
        "colab": {
          "base_uri": "https://localhost:8080/",
          "height": 34
        },
        "id": "9PiFFRC3tHiV",
        "outputId": "1804f4fe-de96-435d-c875-00ae36204223"
      },
      "outputs": [
        {
          "name": "stdout",
          "output_type": "stream",
          "text": [
            "Populating the interactive namespace from numpy and matplotlib\n"
          ]
        }
      ],
      "source": [
        "import numpy as np\n",
        "import matplotlib as plt"
      ]
    },
    {
      "cell_type": "markdown",
      "metadata": {
        "id": "7KKCGCLqtHiW"
      },
      "source": [
        "### Exercise 1 ###\n",
        "\n",
        "Let's make plot the position, velocity, and acceleration of a particle along its trajectory in one dimension.\n",
        "\n",
        "The velocity of a particle is given by: $v(t)=3-8t^2+3t^3$, where t is the time in seconds and the constants yield speeds in m/s, and the initial position at $t=0$ is $x=0.0$. We will consider the motion between $t=0$ to $t=3.5$ seconds.\n",
        "\n",
        "(a) Write expressions for the position and acceleration of the particle as functions of time.\n",
        "\n",
        "(b) Make graphs of $x(t)$, $v(t)$, and $a(t)$. Use these graphs to answer questions below.\n",
        "\n",
        "(c) Find the instantaneous acceleration when the object first reverses direction of motion.\n",
        "\n",
        "(d) Find the maximum negative velocity during the time interval from 0.0 to 3.5 seconds and find the time that it occurs.\n",
        "\n",
        "(e) What was the displacement of the particle from $x=0.0$ in 3.5 seconds?"
      ]
    },
    {
      "cell_type": "markdown",
      "metadata": {
        "id": "dtitBhf2tHiX"
      },
      "source": [
        "**Solution.**\n",
        "\n",
        "* First let's define the array of times at which we will evaluate our functions."
      ]
    },
    {
      "cell_type": "code",
      "execution_count": null,
      "metadata": {
        "id": "yJy2IQ66tHiX"
      },
      "outputs": [],
      "source": [
        "# create an equally spaced array of 100 numbers\n",
        "# from 0 to 3.5s\n"
      ]
    },
    {
      "cell_type": "markdown",
      "metadata": {
        "id": "njsuxJ2ltHiX"
      },
      "source": [
        "* Now let's evaluate the velocity at these times, since the function is given to us"
      ]
    },
    {
      "cell_type": "code",
      "execution_count": null,
      "metadata": {
        "id": "CdYjwZLCtHiX"
      },
      "outputs": [],
      "source": [
        "v = "
      ]
    },
    {
      "cell_type": "markdown",
      "metadata": {
        "id": "go5fg-A0tHiX"
      },
      "source": [
        "* Now let's plot velocity as a function of time"
      ]
    },
    {
      "cell_type": "code",
      "execution_count": null,
      "metadata": {},
      "outputs": [],
      "source": []
    },
    {
      "cell_type": "markdown",
      "metadata": {
        "id": "lW3wMMEktHiY"
      },
      "source": [
        "$\\rightarrow$ Hopefully a nice-looking plot!"
      ]
    },
    {
      "cell_type": "markdown",
      "metadata": {
        "id": "JnnTDfxytHiY"
      },
      "source": [
        "* Ok, now time to do some algebra for part (a). Go ahead and write on a piece of paper your expressions for the position and acceleration of the particle as functions of time.\n",
        "\n",
        "* Now let's evaluate these functions at the times in array $t$. Complete the cells below."
      ]
    },
    {
      "cell_type": "code",
      "execution_count": null,
      "metadata": {
        "id": "T2oeZ8UFtHiY"
      },
      "outputs": [],
      "source": [
        "# evaluate position array:\n"
      ]
    },
    {
      "cell_type": "code",
      "execution_count": null,
      "metadata": {
        "id": "Q3O-eBbWtHiY"
      },
      "outputs": [],
      "source": [
        "# evaluate acceleration array:\n"
      ]
    },
    {
      "cell_type": "markdown",
      "metadata": {
        "id": "jIsx5axctHiZ"
      },
      "source": [
        "* Your arrays x and a should now hold the values of position and acceleration. Let's plot them! Complete the cells below and execute them. Don't forget to label the axes and include units."
      ]
    },
    {
      "cell_type": "code",
      "execution_count": null,
      "metadata": {},
      "outputs": [],
      "source": [
        "# plot position as a function of time\n"
      ]
    },
    {
      "cell_type": "code",
      "execution_count": null,
      "metadata": {},
      "outputs": [],
      "source": [
        "# plot acceleration as a function of time\n"
      ]
    },
    {
      "cell_type": "markdown",
      "metadata": {
        "id": "m0t5TiQltHiZ"
      },
      "source": [
        "* Now let's move on to solving parts (c)-(d) using your plots.\n",
        "\n",
        "(c) Find the instantaneous acceleration when the object first reverses direction of motion.\n",
        "\n",
        "* Move your mouse cursor over your plot of x vs t and place it over the point at which the object reverses direction of motion. Read off the corresponding time and record it in the variable trev below, giving two significant figures."
      ]
    },
    {
      "cell_type": "code",
      "execution_count": null,
      "metadata": {
        "id": "ZLQ_gBLxtHia"
      },
      "outputs": [],
      "source": [
        "trev = "
      ]
    },
    {
      "cell_type": "markdown",
      "metadata": {
        "id": "MYYwSsoftHia"
      },
      "source": [
        "* Now go to your plot of a vs t and use it to read off the accleration at time trev (again use your mouse cursor). Record your answer in the variable arev below, giving two significant figures."
      ]
    },
    {
      "cell_type": "code",
      "execution_count": null,
      "metadata": {
        "id": "oEdZiSm_tHia"
      },
      "outputs": [],
      "source": [
        "arev = "
      ]
    },
    {
      "cell_type": "markdown",
      "metadata": {
        "id": "KRbiLCfUtHia"
      },
      "source": [
        "(d) Find the maximum negative velocity during the time interval from 0.0 to 3.5 seconds and find the time that it occurs.\n",
        "\n",
        "* Use your mouse cursor and your plot of v vs t to read off the answers. Record your answers in the variables below, giving two significant figures."
      ]
    },
    {
      "cell_type": "code",
      "execution_count": null,
      "metadata": {
        "id": "5meuVgOTtHia"
      },
      "outputs": [],
      "source": [
        "vneg = "
      ]
    },
    {
      "cell_type": "code",
      "execution_count": null,
      "metadata": {
        "id": "P5TrGYs0tHia"
      },
      "outputs": [],
      "source": [
        "tneg = "
      ]
    },
    {
      "cell_type": "markdown",
      "metadata": {
        "id": "MALUqLTJtHia"
      },
      "source": [
        "(e) What was the displacement of the particle from $x=0.0$ in 3.5 seconds?\n",
        "\n",
        "* Use your mouse cursor and your plot of x vs t to read off the answer. Record your answer in the variable below, giving two significant figures."
      ]
    },
    {
      "cell_type": "code",
      "execution_count": null,
      "metadata": {
        "id": "7fc7o_pYtHia"
      },
      "outputs": [],
      "source": [
        "xdisp = "
      ]
    },
    {
      "cell_type": "markdown",
      "metadata": {
        "id": "X9RexmiNtHib"
      },
      "source": [
        "### Exercise 2 ###\n",
        "\n",
        "In this exercise we will use Euler's method to numerically calculate and plot the trajectory of a projectile, launched in vacuum (no air resistance). This will help you with next week's homework."
      ]
    },
    {
      "cell_type": "markdown",
      "metadata": {
        "id": "p5yqIeQitHib"
      },
      "source": [
        "**Problem:** Suppose the projectile is launched from the origin at initial speed of 50 m/s and at an angle of 45 degrees to the horizontal. Use Euler's method to numerically calculate and plot its trajectory."
      ]
    },
    {
      "cell_type": "markdown",
      "metadata": {
        "id": "NIL25KgLtHib"
      },
      "source": [
        "* First let us assign all initial conditions"
      ]
    },
    {
      "cell_type": "code",
      "execution_count": null,
      "metadata": {
        "id": "C9Cx7IlutHib"
      },
      "outputs": [],
      "source": [
        "# initialization of fixed parameters\n",
        "g = 9.8\n",
        "x0 = 0\n",
        "y0 = 0\n",
        "v0 = 50\n",
        "theta = 45.0*pi/180.0 # convert from degrees to radians\n",
        "v0x = v0*np.cos(theta)\n",
        "v0y = v0*np.sin(theta)"
      ]
    },
    {
      "cell_type": "markdown",
      "metadata": {
        "id": "OBa8QGdntHib"
      },
      "source": [
        "* Next break up the trajectory into small steps. We will track the motion for 10 seconds, and use 100 steps."
      ]
    },
    {
      "cell_type": "code",
      "execution_count": null,
      "metadata": {
        "id": "_bghomUytHib"
      },
      "outputs": [],
      "source": [
        "# number of points and step size\n",
        "n = 100\n",
        "tmax = 10.0\n",
        "dt = tmax/n"
      ]
    },
    {
      "cell_type": "markdown",
      "metadata": {
        "id": "WMseZTYetHib"
      },
      "source": [
        "* It is important to initialize the arrays that will hold the velocities and positions; to start with we just set all elements to zero"
      ]
    },
    {
      "cell_type": "code",
      "execution_count": null,
      "metadata": {
        "id": "a28x6BWXtHic"
      },
      "outputs": [],
      "source": [
        "# allocate arrays of positions and velocities\n",
        "x = np.zeros(n)\n",
        "y = np.zeros(n)\n",
        "vx = np.zeros(n)\n",
        "vy = np.zeros(n)"
      ]
    },
    {
      "cell_type": "markdown",
      "metadata": {
        "id": "w3qWWSW0tHic"
      },
      "source": [
        "* Assign the first element of each array to the initial value of the corresponding quantity"
      ]
    },
    {
      "cell_type": "code",
      "execution_count": null,
      "metadata": {
        "id": "W2tkeO4htHic"
      },
      "outputs": [],
      "source": [
        "# initial conditions\n"
      ]
    },
    {
      "cell_type": "markdown",
      "metadata": {
        "id": "PqYVkUeOtHic"
      },
      "source": [
        "* Now we are ready to calculate the rest of the array elements using Euler's method, see Lecture03. We use the for loop to repeat the calculation for each tie along the trajectory"
      ]
    },
    {
      "cell_type": "code",
      "execution_count": null,
      "metadata": {
        "id": "PzPQkZQxtHic"
      },
      "outputs": [],
      "source": []
    },
    {
      "cell_type": "markdown",
      "metadata": {
        "id": "NVqgvMrdtHid"
      },
      "source": [
        "* Plot the results"
      ]
    },
    {
      "cell_type": "code",
      "execution_count": null,
      "metadata": {},
      "outputs": [],
      "source": []
    },
    {
      "cell_type": "markdown",
      "metadata": {
        "id": "tZ0ZO3jEtHid"
      },
      "source": [
        "* Use your mouse cursor and the above plot of the trajectory to read off the range and maximum height of the projectile. Record your answers in the variables below, giving two significant figures."
      ]
    },
    {
      "cell_type": "code",
      "execution_count": null,
      "metadata": {
        "id": "Xnx3saJLtHie"
      },
      "outputs": [],
      "source": [
        "ranqwq = "
      ]
    },
    {
      "cell_type": "code",
      "execution_count": null,
      "metadata": {
        "id": "2_vwAiqvtHie"
      },
      "outputs": [],
      "source": [
        "height = "
      ]
    },
    {
      "cell_type": "markdown",
      "metadata": {
        "id": "UjyzifaItHie"
      },
      "source": [
        "### Exercise 3 ###\n",
        "\n",
        "We will repeat exercise 2, but now instead of a 45 degree launch angle, we will calculate and plot trajectories for three different launch angles. This code may also help you with next week's homework."
      ]
    },
    {
      "cell_type": "markdown",
      "metadata": {
        "id": "TXjiUeY3tHie"
      },
      "source": [
        "**Problem:** Three projectiles are launched from the origin at initial speed of 50 m/s. Their launch angles are 10 degrees, 45 degrees, and 60 degrees to the horizontal. Use Euler's method to numerically calculate and plot the trajectories for these three projectiles."
      ]
    },
    {
      "cell_type": "markdown",
      "metadata": {
        "id": "Oj04r3jctHif"
      },
      "source": [
        "* Assign initial conditions that are common to the three projectiles"
      ]
    },
    {
      "cell_type": "code",
      "execution_count": null,
      "metadata": {
        "id": "6V9gtMNYtHif"
      },
      "outputs": [],
      "source": [
        "# initialization of fixed parameters\n",
        "g = 9.8\n",
        "x0 = 0\n",
        "y0 = 0\n",
        "v0 = 50"
      ]
    },
    {
      "cell_type": "markdown",
      "metadata": {
        "id": "pFma3_eVtHif"
      },
      "source": [
        "* Next break up the trajectory into small steps. We will track the motion for 10 seconds, and use 100 steps."
      ]
    },
    {
      "cell_type": "code",
      "execution_count": null,
      "metadata": {
        "id": "7OTqKYXdtHif"
      },
      "outputs": [],
      "source": [
        "# number of points and step size\n",
        "n = 100\n",
        "tmax = 10.0\n",
        "dt = tmax/n"
      ]
    },
    {
      "cell_type": "markdown",
      "metadata": {
        "id": "dDL3N3nEtHif"
      },
      "source": [
        "* Initialize the arrays that will hold the velocities and positions; to start with we just set all elements to zero"
      ]
    },
    {
      "cell_type": "code",
      "execution_count": null,
      "metadata": {
        "id": "nCYlWpo-tHif"
      },
      "outputs": [],
      "source": [
        "# allocate arrays of positions and velocities\n",
        "x = np.zeros(n)\n",
        "y = np.zeros(n)\n",
        "vx = np.zeros(n)\n",
        "vy = np.zeros(n)"
      ]
    },
    {
      "cell_type": "markdown",
      "metadata": {
        "id": "EVxHJ96RtHif"
      },
      "source": [
        "* We could just repeat the for loop three times for the three different launch angles. But we are too lazy to do that. So instead, we define a function that computes the trajectory of the projectile, with the launch angle as one of the input variables. The calculation is the same as in exercise 2."
      ]
    },
    {
      "cell_type": "code",
      "execution_count": null,
      "metadata": {
        "id": "qOSZF06ntHif"
      },
      "outputs": [],
      "source": [
        "# find trajectory using Euler's method\n"
      ]
    },
    {
      "cell_type": "markdown",
      "metadata": {
        "id": "KEukrULXtHif"
      },
      "source": [
        "* Now we call the trajectory function 3 times, once for each launch angle, and plot the results. Python is nice enough to assign different colors to the plots."
      ]
    },
    {
      "cell_type": "code",
      "execution_count": null,
      "metadata": {},
      "outputs": [],
      "source": []
    },
    {
      "cell_type": "markdown",
      "metadata": {
        "id": "RqL5s69htHif"
      },
      "source": [
        "### Exercise 4 ###\n",
        "\n",
        "In this exercise you will compare the ranges of projectiles launched on earth and on the moon."
      ]
    },
    {
      "cell_type": "markdown",
      "metadata": {
        "id": "prZ8e3oftHif"
      },
      "source": [
        "**Problem:** A projectile is launched on earth, from the origin at initial speed of 50 m/s and launch angle 30 degrees. The same projectile is launched on the moon, also from the origin, at initial speed of 50 m/s and launch angle 30 degrees.\n",
        "Use Euler's method to numerically calculate and plot the trajectories for these two projectiles. Acceleration of free fall on the moon is $g/6$."
      ]
    },
    {
      "cell_type": "markdown",
      "metadata": {
        "id": "o82fnA4htHig"
      },
      "source": [
        "* Assign initial conditions that are common to the two projectiles"
      ]
    },
    {
      "cell_type": "code",
      "execution_count": null,
      "metadata": {
        "id": "vm49W0i0tHig"
      },
      "outputs": [],
      "source": [
        "# initialization of fixed parameters\n",
        "x0 = 0\n",
        "y0 = 0\n",
        "v0 = 50\n",
        "theta = 30.0*pi/180.0 # convert from degrees to radians\n",
        "v0x = v0*np.cos(theta)\n",
        "v0y = v0*np.sin(theta)"
      ]
    },
    {
      "cell_type": "markdown",
      "metadata": {
        "id": "FqUN3PmAtHig"
      },
      "source": [
        "* Next break up the trajectory into small steps. We will track the motion for 40 seconds, and use 100 steps."
      ]
    },
    {
      "cell_type": "code",
      "execution_count": null,
      "metadata": {
        "id": "6LGimq4ptHig"
      },
      "outputs": [],
      "source": [
        "# number of points and step size\n",
        "n = 100\n",
        "tmax = 100.0\n",
        "dt = tmax/n"
      ]
    },
    {
      "cell_type": "markdown",
      "metadata": {
        "id": "MJW35X-PtHig"
      },
      "source": [
        "* Initialize the arrays that will hold the velocities and positions; to start with we just set all elements to zero"
      ]
    },
    {
      "cell_type": "code",
      "execution_count": null,
      "metadata": {
        "id": "NqlFiP9ItHig"
      },
      "outputs": [],
      "source": [
        "# allocate arrays of positions and velocities\n",
        "x = np.zeros(n)\n",
        "y = np.zeros(n)\n",
        "vx = np.zeros(n)\n",
        "vy = np.zeros(n)"
      ]
    },
    {
      "cell_type": "markdown",
      "metadata": {
        "id": "nkwCEejYtHig"
      },
      "source": [
        "* Once again we define a function that calculates the trajectory, with the acceleration of free fall as one of the input variables. The calculation is the same as in exercises 2 and 3."
      ]
    },
    {
      "cell_type": "code",
      "execution_count": null,
      "metadata": {
        "id": "u-Iz9no6tHig"
      },
      "outputs": [],
      "source": [
        "# find trajectory using Euler's method\n",
        "\n"
      ]
    },
    {
      "cell_type": "markdown",
      "metadata": {
        "id": "NnkUH6wRtHig"
      },
      "source": [
        "* Now we call the trajectory function twice: once for earth and once for the moon, and plot the results. Python is nice enough to assign different colors to the plots."
      ]
    },
    {
      "cell_type": "code",
      "execution_count": null,
      "metadata": {},
      "outputs": [],
      "source": []
    },
    {
      "cell_type": "markdown",
      "metadata": {
        "id": "P_KxBqlgtHig"
      },
      "source": [
        "* Use your mouse cursor and the above plot of the trajectories to read off the ranges on earth and moon. Record your answers in the variables below, giving two significant figures."
      ]
    },
    {
      "cell_type": "code",
      "execution_count": null,
      "metadata": {
        "id": "MQmsP6PYtHig"
      },
      "outputs": [],
      "source": [
        "rangeEarth = "
      ]
    },
    {
      "cell_type": "code",
      "execution_count": null,
      "metadata": {
        "id": "XGs5H4e_tHig"
      },
      "outputs": [],
      "source": [
        "rangeMoon = "
      ]
    }
  ],
  "metadata": {
    "colab": {
      "provenance": []
    },
    "kernelspec": {
      "display_name": "Python 3 (ipykernel)",
      "language": "python",
      "name": "python3"
    },
    "language_info": {
      "codemirror_mode": {
        "name": "ipython",
        "version": 3
      },
      "file_extension": ".py",
      "mimetype": "text/x-python",
      "name": "python",
      "nbconvert_exporter": "python",
      "pygments_lexer": "ipython3",
      "version": "3.12.1"
    }
  },
  "nbformat": 4,
  "nbformat_minor": 0
}
